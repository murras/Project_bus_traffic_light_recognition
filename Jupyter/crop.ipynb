{
 "cells": [
  {
   "cell_type": "code",
   "execution_count": 2,
   "metadata": {},
   "outputs": [],
   "source": [
    "from PIL import Image\n",
    "import os"
   ]
  },
  {
   "cell_type": "code",
   "execution_count": 6,
   "metadata": {},
   "outputs": [],
   "source": [
    "path = \"D:\\\\Onedrive\\\\OneDrive - 홍익대학교\\\\Dataset\\\\TrafficLight_dataset\\\\TrafficLight_train3\\\\IMAGE_CROP\"\n",
    "path += \"\\\\\"\n",
    "file_list = os.listdir(path)"
   ]
  },
  {
   "cell_type": "code",
   "execution_count": 9,
   "metadata": {
    "scrolled": true
   },
   "outputs": [],
   "source": [
    "for file in file_list:\n",
    "    if file.endswith('jpg') is True:\n",
    "        im = Image.open(path + file)\n",
    "        box = (0, 0, 1024, 1024)\n",
    "        crop_image = im.crop(box)\n",
    "        file_name = path + \"cropped\\\\\"+ file[:-4] + \"_\" + str(0) + \".jpg\"\n",
    "        crop_image.save(file_name)\n",
    "        \n",
    "        box = (1024, 0, 2048, 1024)\n",
    "        crop_image = im.crop(box)\n",
    "        file_name = path + \"cropped\\\\\"+ file[:-4] + \"_\" + str(1) + \".jpg\"\n",
    "        crop_image.save(file_name)\n",
    "            "
   ]
  },
  {
   "cell_type": "code",
   "execution_count": 50,
   "metadata": {
    "scrolled": true
   },
   "outputs": [],
   "source": [
    "for file in file_list:\n",
    "    if file.endswith('jpg') is True:\n",
    "        if len(file) != 21:\n",
    "            #print(file)\n",
    "            os.remove(path+file)"
   ]
  },
  {
   "cell_type": "code",
   "execution_count": null,
   "metadata": {},
   "outputs": [],
   "source": []
  }
 ],
 "metadata": {
  "kernelspec": {
   "display_name": "Python 3",
   "language": "python",
   "name": "python3"
  },
  "language_info": {
   "codemirror_mode": {
    "name": "ipython",
    "version": 3
   },
   "file_extension": ".py",
   "mimetype": "text/x-python",
   "name": "python",
   "nbconvert_exporter": "python",
   "pygments_lexer": "ipython3",
   "version": "3.7.1"
  }
 },
 "nbformat": 4,
 "nbformat_minor": 2
}
