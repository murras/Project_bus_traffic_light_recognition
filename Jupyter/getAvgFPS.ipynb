{
 "cells": [
  {
   "cell_type": "code",
   "execution_count": 1,
   "metadata": {},
   "outputs": [],
   "source": [
    "dir = 'D:/__Project__/yolo/yolo/darknet-master/build/darknet/x64/_/'\n",
    "f1 = open(dir+'result_test1_desktop.txt', 'r')\n",
    "f2 = open(dir+'result_test1_laptop.txt', 'r')"
   ]
  },
  {
   "cell_type": "code",
   "execution_count": 2,
   "metadata": {},
   "outputs": [],
   "source": [
    "fpsList = []\n",
    "for lines in f1:\n",
    "    line = f1.readline()\n",
    "    findString = 'FPS:'\n",
    "    n = line.find(findString)\n",
    "    if(n==0):\n",
    "        input = (float)(line[4:-1])\n",
    "        fpsList.append(input)"
   ]
  },
  {
   "cell_type": "code",
   "execution_count": 3,
   "metadata": {},
   "outputs": [],
   "source": [
    "fpsList2 = []\n",
    "for lines in f2:\n",
    "    line = f2.readline()\n",
    "    findString = 'FPS:'\n",
    "    n = line.find(findString)\n",
    "    if(n==0):\n",
    "        input = (float)(line[4:-1])\n",
    "        fpsList2.append(input)"
   ]
  },
  {
   "cell_type": "code",
   "execution_count": 4,
   "metadata": {},
   "outputs": [
    {
     "name": "stdout",
     "output_type": "stream",
     "text": [
      "desktop fps Average : 37.128503\n"
     ]
    }
   ],
   "source": [
    "avg = sum(fpsList) / len(fpsList)\n",
    "print(\"desktop fps Average : %f\" %avg)"
   ]
  },
  {
   "cell_type": "code",
   "execution_count": 5,
   "metadata": {},
   "outputs": [
    {
     "name": "stdout",
     "output_type": "stream",
     "text": [
      "laptop fps Average : 22.225172\n"
     ]
    }
   ],
   "source": [
    "avg = sum(fpsList2) / len(fpsList2)\n",
    "print(\"laptop fps Average : %f\" %avg)"
   ]
  },
  {
   "cell_type": "code",
   "execution_count": 6,
   "metadata": {},
   "outputs": [],
   "source": [
    "f1.close()\n",
    "f2.close()"
   ]
  },
  {
   "cell_type": "code",
   "execution_count": null,
   "metadata": {},
   "outputs": [],
   "source": []
  }
 ],
 "metadata": {
  "kernelspec": {
   "display_name": "PyTorch",
   "language": "python",
   "name": "pytorch"
  },
  "language_info": {
   "codemirror_mode": {
    "name": "ipython",
    "version": 3
   },
   "file_extension": ".py",
   "mimetype": "text/x-python",
   "name": "python",
   "nbconvert_exporter": "python",
   "pygments_lexer": "ipython3",
   "version": "3.7.1"
  }
 },
 "nbformat": 4,
 "nbformat_minor": 2
}
