{
 "cells": [
  {
   "cell_type": "code",
   "execution_count": 42,
   "metadata": {},
   "outputs": [],
   "source": [
    "import os\n",
    "from random import *\n",
    "\n",
    "image_path = \"D:\\\\__Project__\\\\Git\\\\Project_bus_traffic_light_recognition\\\\darknet\\\\build\\\\darknet\\\\x64\\\\__dataset-sign\"\n",
    "image_path += \"\\\\\"\n",
    "image_list = os.listdir(image_path)\n",
    "\n",
    "YOLO_IMAGE_PATH = \"__dataset-sign/\""
   ]
  },
  {
   "cell_type": "code",
   "execution_count": 2,
   "metadata": {},
   "outputs": [],
   "source": [
    "def File_rename(alpha):\n",
    "    counter = 0\n",
    "    for i, item in enumerate(image_list):\n",
    "        if item.endswith('jpg') is True :\n",
    "            src = image_path + item\n",
    "            number = (counter+alpha)\n",
    "            dst = image_path + \"Test_TL_1_%03d\"%(number) + '.jpg'\n",
    "            counter += 1\n",
    "            os.rename(src, dst)\n",
    "            #print(src)\n",
    "            #print(dst)\n",
    "            \n",
    "File_rename(1)        "
   ]
  },
  {
   "cell_type": "code",
   "execution_count": 43,
   "metadata": {},
   "outputs": [
    {
     "name": "stdout",
     "output_type": "stream",
     "text": [
      "1\n"
     ]
    }
   ],
   "source": [
    "def Jpg_list_to_txt(savepath, random, train_or_test=\"train\"):\n",
    "    path = savepath\n",
    "    if path.endswith('\\\\') is False :\n",
    "        path += \"\\\\\"\n",
    "    if random is 0 :\n",
    "        print(1)\n",
    "        if train_or_test == \"train\" :\n",
    "            with open(path + 'train.txt', 'w') as file_write:\n",
    "                for i, item in enumerate(image_list):\n",
    "                    if item.endswith('jpg') is True:\n",
    "                        #print(YOLO_IMAGE_PATH + item + '\\n')\n",
    "                        file_write.write(YOLO_IMAGE_PATH + item + '\\n')\n",
    "        elif train_or_test == \"test\" :\n",
    "            with open(path + 'test.txt', 'w') as file_write:\n",
    "                for i, item in enumerate(image_list):\n",
    "                    if item.endswith('jpg') is True:\n",
    "                        #print(YOLO_IMAGE_PATH + item + '\\n')\n",
    "                        file_write.write(YOLO_IMAGE_PATH + item + '\\n')\n",
    "    elif random < 1 :\n",
    "        print(\"0 or 1 ~ 100 Integer Input needed\")\n",
    "        return\n",
    "    else :\n",
    "        with open(path + 'train.txt', 'w') as train_write:\n",
    "            with open(path + 'test.txt', 'w') as test_write:\n",
    "                for i, item in enumerate(image_list):\n",
    "                    if item.endswith('jpg') is True:\n",
    "                        rand = randint(1, 100)\n",
    "                        if rand < random :\n",
    "                            train_write.write(YOLO_IMAGE_PATH + item + '\\n')\n",
    "                        else :\n",
    "                            test_write.write(YOLO_IMAGE_PATH + item + '\\n')\n",
    "\n",
    "Jpg_list_to_txt(\"D:\", 0, \"train\")                "
   ]
  },
  {
   "cell_type": "code",
   "execution_count": null,
   "metadata": {},
   "outputs": [],
   "source": [
    "def Create_empty_txt():\n",
    "    for i, item in enumerate(image_list):\n",
    "        with open(image_path + item[:-3] + 'txt', 'w') as file_write:\n",
    "            file_write.write(\"\")"
   ]
  },
  {
   "cell_type": "code",
   "execution_count": 41,
   "metadata": {},
   "outputs": [],
   "source": [
    "def Modify_txt(src, dst):\n",
    "    if src.endswith('\\\\') is False:\n",
    "        src += '\\\\'\n",
    "    if dst.endswith('\\\\') is False:\n",
    "        dst += '\\\\'\n",
    "    txt_list = os.listdir(src)\n",
    "    for txt in txt_list:\n",
    "        if txt.endswith('1.txt') is True:\n",
    "            with open(src + txt, 'r') as file_read :\n",
    "                with open(dst + txt, 'w') as file_write :\n",
    "                    while True:\n",
    "                        \n",
    "                        content = file_read.readline()\n",
    "                        content = content.split(' ')\n",
    "                        \n",
    "                        if len(content) is 1:\n",
    "                            break\n",
    "                            \n",
    "                        c1 = round((float(content[1])+0.05), 6)\n",
    "                        #c2 = round(float(content[2]) * 1080. / 1024., 6)\n",
    "                        #c3 = round(float(content[3])  * 1080. / 1024., 6)\n",
    "                        #c4 = round(float(content[4]) * 1080. / 1024., 6)\n",
    "                        content[1] = str(c1)\n",
    "                        #content[2] = str(c2)\n",
    "                        #content[3] = str(c3)\n",
    "                        #content[4] = str(c4)\n",
    "                        \n",
    "                        file_write.write(' '.join(content)+'\\n')\n",
    "                        \n",
    "Modify_txt(image_path, \"D:\\\\modify\")"
   ]
  },
  {
   "cell_type": "code",
   "execution_count": null,
   "metadata": {},
   "outputs": [],
   "source": [
    "def Matching_image_txt(file_list):\n",
    "    jpg_list = []\n",
    "    txt_list = []\n",
    "    for i in file_list:\n",
    "        if i.endswith('jpg'):\n",
    "            jpgList.append(i)\n",
    "        elif i.endswith('txt'):\n",
    "            txtList.append(i)\n",
    "            \n",
    "    jpg_list_length = len(jpg_list)\n",
    "    txt_list_length = len(txt_list)\n",
    "    min_length = min(jpg_list_length, txt_list_length)\n",
    "    if jpg_list_length != txt_list_length:\n",
    "        for i in range(0, min_length):\n",
    "            if jpg_list[i][:-4] != txt_list[i][:-4] :\n",
    "                print(jpg_list[j])\n",
    "    else :\n",
    "        print('same')\n"
   ]
  },
  {
   "cell_type": "code",
   "execution_count": null,
   "metadata": {},
   "outputs": [],
   "source": [
    "def Image_to_single_dir(src, dst):\n",
    "    if src.endswith('\\\\') is False:\n",
    "        src += '\\\\'\n",
    "    if dst.endswith('\\\\') is False:\n",
    "        dst += '\\\\'\n",
    "    folder_list = os.listdir(src)\n",
    "    for folder in folder_list:\n",
    "        if(os.path.isdir(src + folder)):\n",
    "            jpg_list = os.listdir(src + folder)\n",
    "            folder = folder + \"\\\\\"\n",
    "            for jpg in jpg_list:\n",
    "                if(jpg.endswith('jpg')):\n",
    "                    src = path + folder + jpg\n",
    "                    dst = path + jpg\n",
    "                    shutil.move(src, dst)"
   ]
  },
  {
   "cell_type": "code",
   "execution_count": null,
   "metadata": {},
   "outputs": [],
   "source": []
  }
 ],
 "metadata": {
  "kernelspec": {
   "display_name": "Python 3",
   "language": "python",
   "name": "python3"
  },
  "language_info": {
   "codemirror_mode": {
    "name": "ipython",
    "version": 3
   },
   "file_extension": ".py",
   "mimetype": "text/x-python",
   "name": "python",
   "nbconvert_exporter": "python",
   "pygments_lexer": "ipython3",
   "version": "3.7.1"
  }
 },
 "nbformat": 4,
 "nbformat_minor": 2
}
