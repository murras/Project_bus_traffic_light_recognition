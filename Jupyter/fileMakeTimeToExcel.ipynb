{
 "cells": [
  {
   "cell_type": "code",
   "execution_count": 1,
   "metadata": {},
   "outputs": [],
   "source": [
    "import pandas as pd\n",
    "import os\n",
    "import datetime\n",
    "from openpyxl import Workbook"
   ]
  },
  {
   "cell_type": "code",
   "execution_count": 2,
   "metadata": {},
   "outputs": [
    {
     "name": "stdout",
     "output_type": "stream",
     "text": [
      "D:\\__Project__\\yolo\\yolo\\darknet-master\\build\\darknet\\x64\\_\\backup\n"
     ]
    }
   ],
   "source": [
    "# 작업 디렉토리 설정\n",
    "working_dir = 'D:\\\\__Project__\\\\yolo\\\\yolo\\\\darknet-master\\\\build\\\\darknet\\\\x64\\\\_\\\\backup'\n",
    "os.chdir(working_dir)\n",
    "print(os.getcwd())"
   ]
  },
  {
   "cell_type": "code",
   "execution_count": 3,
   "metadata": {},
   "outputs": [],
   "source": [
    "# 디렉토리에서 파일 리스트 가져오기\n",
    "file_list = os.listdir(working_dir)\n",
    "save_list = []\n"
   ]
  },
  {
   "cell_type": "code",
   "execution_count": 4,
   "metadata": {},
   "outputs": [],
   "source": [
    "for i, name in enumerate(file_list):\n",
    "    # 생성 시각\n",
    "    ctime = os.path.getctime(working_dir+\"\\\\\"+name)\n",
    "    timeStr = datetime.datetime.fromtimestamp(ctime)\n",
    "    timeStr = timeStr.strftime(\"%Y-%m-%d %H:%M:%S\")\n",
    "    \n",
    "    name = name.split('_')\n",
    "    name = name[1]\n",
    "    \n",
    "    # 0 붙여주기\n",
    "    if((int)(name[:-8])<1000):\n",
    "        name = '00'+name\n",
    "    elif((int)(name[:-8])<10000):\n",
    "        name = '0' + name\n",
    "        \n",
    "    save_list.append([name, timeStr])\n",
    "\n",
    "save_list.sort()"
   ]
  },
  {
   "cell_type": "code",
   "execution_count": 5,
   "metadata": {},
   "outputs": [],
   "source": [
    "wb = Workbook()\n",
    "ws1=wb.active\n",
    "ws1.title = \"1070 ti\"\n",
    "file_name = \"D:\\__Project__\\성능 비교1.xlsx\"\n",
    "\n",
    "for i in range(len(save_list)):\n",
    "    ws1.cell(row=i+1, column=1).value = save_list[i][0]\n",
    "    ws1.cell(row=i+1, column=2).value = save_list[i][1]\n",
    "\n",
    "wb.save(filename=file_name)"
   ]
  },
  {
   "cell_type": "code",
   "execution_count": null,
   "metadata": {},
   "outputs": [],
   "source": []
  },
  {
   "cell_type": "code",
   "execution_count": null,
   "metadata": {},
   "outputs": [],
   "source": []
  }
 ],
 "metadata": {
  "kernelspec": {
   "display_name": "PyTorch",
   "language": "python",
   "name": "pytorch"
  },
  "language_info": {
   "codemirror_mode": {
    "name": "ipython",
    "version": 3
   },
   "file_extension": ".py",
   "mimetype": "text/x-python",
   "name": "python",
   "nbconvert_exporter": "python",
   "pygments_lexer": "ipython3",
   "version": "3.7.1"
  }
 },
 "nbformat": 4,
 "nbformat_minor": 2
}
