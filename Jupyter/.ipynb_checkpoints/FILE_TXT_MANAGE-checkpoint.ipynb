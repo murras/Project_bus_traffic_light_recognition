{
 "cells": [
  {
   "cell_type": "code",
<<<<<<< HEAD
<<<<<<< HEAD
   "execution_count": 1,
=======
<<<<<<< HEAD
=======
>>>>>>> 8ae9f6c9943a13b073b65b7f1b81b1c22cef671b
   "execution_count": null,
=======
   "execution_count": 2,
>>>>>>> 0b8e05b78c623832e583aefd2a0bcbc59e0086a4
<<<<<<< HEAD
>>>>>>> 8ae9f6c9943a13b073b65b7f1b81b1c22cef671b
=======
>>>>>>> 8ae9f6c9943a13b073b65b7f1b81b1c22cef671b
   "metadata": {},
   "outputs": [],
   "source": [
    "import os\n",
    "from random import *\n",
    "\n",
<<<<<<< HEAD
<<<<<<< HEAD
    "image_path = \"D:\\\\train\"\n",
=======
<<<<<<< HEAD
    "image_path = \"D:\\\\bus\"\n",
=======
    "image_path = \"D:\\\\bus\"\n",
    "image_path += \"\\\\\"\n",
    "image_list = os.listdir(image_path)\n",
    "\n",
    "list_txt_path = \"E:\"\n",
    "txt_name = \"train.txt\"\n",
    "txt = list_txt_path + \"\\\\\" + txt_name\n",
    "\n",
    "YOLO_IMAGE_PATH = \"data/obj/traffic_light_train/\""
=======
    "image_path = \"D:\\\\__Project__\\\\Git\\\\Project_bus_traffic_light_recognition\\\\darknet\\\\build\\\\darknet\\\\x64\\\\_crop1\"\n",
>>>>>>> 8ae9f6c9943a13b073b65b7f1b81b1c22cef671b
    "image_path += \"\\\\\"\n",
    "image_list = os.listdir(image_path)\n",
    "\n",
    "list_txt_path = \"E:\"\n",
    "txt_name = \"train.txt\"\n",
    "txt = list_txt_path + \"\\\\\" + txt_name\n",
    "\n",
    "YOLO_IMAGE_PATH = \"data/obj/traffic_light_train/\""
=======
    "image_path = \"D:\\\\__Project__\\\\Git\\\\Project_bus_traffic_light_recognition\\\\darknet\\\\build\\\\darknet\\\\x64\\\\_crop1\"\n",
>>>>>>> 8ae9f6c9943a13b073b65b7f1b81b1c22cef671b
    "image_path += \"\\\\\"\n",
    "image_list = os.listdir(image_path)\n",
    "\n",
    "YOLO_IMAGE_PATH = \"_image2/data/\""
   ]
  },
  {
   "cell_type": "code",
   "execution_count": 11,
   "metadata": {},
   "outputs": [
    {
     "name": "stdout",
     "output_type": "stream",
     "text": [
      "1\n"
     ]
    }
   ],
   "source": [
<<<<<<< HEAD
    "Jpg_list_to_txt(\"D:\", 0)"
=======
    "Jpg_list_to_txt()"
>>>>>>> 0b8e05b78c623832e583aefd2a0bcbc59e0086a4
<<<<<<< HEAD
>>>>>>> 8ae9f6c9943a13b073b65b7f1b81b1c22cef671b
=======
>>>>>>> 8ae9f6c9943a13b073b65b7f1b81b1c22cef671b
   ]
  },
  {
   "cell_type": "code",
   "execution_count": 12,
   "metadata": {},
   "outputs": [
    {
     "data": {
      "text/plain": [
       "['backup', 'image', 'obj.names']"
      ]
     },
     "execution_count": 12,
     "metadata": {},
     "output_type": "execute_result"
    }
   ],
   "source": [
    "image_list"
   ]
  },
  {
   "cell_type": "code",
   "execution_count": null,
   "metadata": {},
   "outputs": [],
   "source": [
    "def File_rename(alpha):\n",
    "    counter = 0\n",
    "    for i, item in enumerate(image_list):\n",
    "        if item.endswith('jpg') is True :\n",
    "            src = image_path + item\n",
    "            dst = image_path + \"test_%03d\"%(counter+alpha) + '.jpg'\n",
    "            counter += 1\n",
    "            #os.rename(src, dst)\n",
    "            print(src)\n",
    "            print(dst)"
   ]
  },
  {
   "cell_type": "code",
<<<<<<< HEAD
<<<<<<< HEAD
   "execution_count": 10,
=======
<<<<<<< HEAD
=======
>>>>>>> 8ae9f6c9943a13b073b65b7f1b81b1c22cef671b
   "execution_count": null,
=======
   "execution_count": 4,
>>>>>>> 0b8e05b78c623832e583aefd2a0bcbc59e0086a4
<<<<<<< HEAD
>>>>>>> 8ae9f6c9943a13b073b65b7f1b81b1c22cef671b
=======
>>>>>>> 8ae9f6c9943a13b073b65b7f1b81b1c22cef671b
   "metadata": {},
   "outputs": [],
   "source": [
    "def Jpg_list_to_txt(path, random):\n",
    "    if path.endswith('\\\\') is False :\n",
    "        path += \"\\\\\"\n",
    "    if random is 0 :\n",
    "        print(1)\n",
    "        with open(path + 'train.txt', 'w') as file_write:\n",
    "            for i, item in enumerate(image_list):\n",
    "                if item.endswith('jpg') is True:\n",
    "                    #print(YOLO_IMAGE_PATH + item + '\\n')\n",
    "                    file_write.write(YOLO_IMAGE_PATH + item + '\\n')\n",
    "    elif random < 1 :\n",
    "        print(\"0 or 1 ~ 100 Integer Input needed\")\n",
    "        return\n",
    "    else :\n",
    "        with open(path + 'train.txt', 'w') as train_write:\n",
    "            with open(path + 'test.txt', 'w') as test_write:\n",
    "                for i, item in enumerate(image_list):\n",
    "                    if item.endswith('jpg') is True:\n",
    "                        rand = randint(1, 100)\n",
    "                        if rand < random :\n",
    "                            train_write.write(YOLO_IMAGE_PATH + item + '\\n')\n",
    "                        else :\n",
    "                            test_write.write(YOLO_IMAGE_PATH + item + '\\n')\n",
    "\n",
    "                \n",
    "                "
   ]
  },
  {
   "cell_type": "code",
   "execution_count": null,
   "metadata": {},
   "outputs": [],
   "source": [
    "def Create_empty_txt():\n",
    "    for i, item in enumerate(image_list):\n",
    "        with open(image_path + item[:-3] + 'txt', 'w') as file_write:\n",
    "            file_write.write(\"\")"
   ]
  },
  {
   "cell_type": "code",
   "execution_count": null,
   "metadata": {},
   "outputs": [],
   "source": [
    "def Modify_txt(src, dst):\n",
    "    if src.endswith('\\\\') is False:\n",
    "        src += '\\\\'\n",
    "    if dst.endswith('\\\\') is False:\n",
    "        dst += '\\\\'\n",
    "    txt_list = os.listdir(src)\n",
    "    for txt in txt_list:\n",
    "        if txt.endswith('txt') is True:\n",
    "            with open(src + txt, 'r') as file_read :\n",
    "                with open(dst + txt, 'w') as file_write :\n",
    "                    while True:\n",
    "                        content = file_read.readline()\n",
    "                        if not content :\n",
    "                            break\n",
    "                        new_content = content\n",
    "                        #print(content)\n",
    "                        if new_content[0] == \"1\":\n",
    "                            new_content = \"0\" + new_content[1:]\n",
    "                        #print(new_content)\n",
    "                        file_write.write(new_content)"
   ]
  },
  {
   "cell_type": "code",
   "execution_count": null,
   "metadata": {},
   "outputs": [],
   "source": [
    "def Matching_image_txt(file_list):\n",
    "    jpg_list = []\n",
    "    txt_list = []\n",
    "    for i in file_list:\n",
    "        if i.endswith('jpg'):\n",
    "            jpgList.append(i)\n",
    "        elif i.endswith('txt'):\n",
    "            txtList.append(i)\n",
    "            \n",
    "    jpg_list_length = len(jpg_list)\n",
    "    txt_list_length = len(txt_list)\n",
    "    min_length = min(jpg_list_length, txt_list_length)\n",
    "    if jpg_list_length != txt_list_length:\n",
    "        for i in range(0, min_length):\n",
    "            if jpg_list[i][:-4] != txt_list[i][:-4] :\n",
    "                print(jpg_list[j])\n",
    "    else :\n",
    "        print('same')\n"
   ]
  },
  {
   "cell_type": "code",
   "execution_count": null,
   "metadata": {},
   "outputs": [],
   "source": [
    "def Image_to_single_dir(src, dst):\n",
    "    if src.endswith('\\\\') is False:\n",
    "        src += '\\\\'\n",
    "    if dst.endswith('\\\\') is False:\n",
    "        dst += '\\\\'\n",
    "    folder_list = os.listdir(src)\n",
    "    for folder in folder_list:\n",
    "        if(os.path.isdir(src + folder)):\n",
    "            jpg_list = os.listdir(src + folder)\n",
    "            folder = folder + \"\\\\\"\n",
    "            for jpg in jpg_list:\n",
    "                if(jpg.endswith('jpg')):\n",
    "                    src = path + folder + jpg\n",
    "                    dst = path + jpg\n",
    "                    shutil.move(src, dst)"
   ]
  },
  {
   "cell_type": "code",
   "execution_count": null,
   "metadata": {},
   "outputs": [],
   "source": []
  }
 ],
 "metadata": {
  "kernelspec": {
   "display_name": "Python 3",
   "language": "python",
   "name": "python3"
  },
  "language_info": {
   "codemirror_mode": {
    "name": "ipython",
    "version": 3
   },
   "file_extension": ".py",
   "mimetype": "text/x-python",
   "name": "python",
   "nbconvert_exporter": "python",
   "pygments_lexer": "ipython3",
<<<<<<< HEAD
   "version": "3.7.0"
=======
   "version": "3.7.1"
>>>>>>> 0b8e05b78c623832e583aefd2a0bcbc59e0086a4
  }
 },
 "nbformat": 4,
 "nbformat_minor": 2
}
