{
 "cells": [
  {
   "cell_type": "code",
   "execution_count": 2,
   "metadata": {},
   "outputs": [],
   "source": [
    "from PIL import Image\n",
    "import os"
   ]
  },
  {
   "cell_type": "code",
   "execution_count": 3,
   "metadata": {},
   "outputs": [],
   "source": [
    "path = \"D:\"\n",
    "path += \"\\\\\"\n",
    "file_list = os.listdir(path)"
   ]
  },
  {
   "cell_type": "code",
   "execution_count": 6,
   "metadata": {},
   "outputs": [
    {
     "name": "stdout",
     "output_type": "stream",
     "text": [
      "16\n",
      "16\n",
      "16\n",
      "16\n",
      "16\n"
     ]
    }
   ],
   "source": [
    "for file in file_list:\n",
    "    if file.endswith('jpg') is True:\n",
    "        im = Image.open(path + file)\n",
    "        width, height = im.size\n",
    "        crop_size = height * 3 / 5\n",
    "        print(len(file))\n",
    "        width_count = (int)(width / crop_size + 0.5)\n",
    "        # 나머지가 절반보다 크면 한번 더 나누기로 한다\n",
    "        for i in range(width_count):\n",
    "            box = (i*crop_size, 0, i*crop_size + crop_size, crop_size)\n",
    "            crop_image = im.crop(box)\n",
    "            file_name = path + \"cropped\\\\\"+ file[:-4] + \"_\" + str(i) + \".jpg\"\n",
    "            crop_image.save(file_name)\n",
    "            \n",
    "            "
   ]
  },
  {
   "cell_type": "code",
   "execution_count": 50,
   "metadata": {
    "scrolled": true
   },
   "outputs": [],
   "source": [
    "for file in file_list:\n",
    "    if file.endswith('jpg') is True:\n",
    "        if len(file) != 21:\n",
    "            #print(file)\n",
    "            os.remove(path+file)"
   ]
  },
  {
   "cell_type": "code",
   "execution_count": null,
   "metadata": {},
   "outputs": [],
   "source": []
  }
 ],
 "metadata": {
  "kernelspec": {
   "display_name": "Python 3",
   "language": "python",
   "name": "python3"
  },
  "language_info": {
   "codemirror_mode": {
    "name": "ipython",
    "version": 3
   },
   "file_extension": ".py",
   "mimetype": "text/x-python",
   "name": "python",
   "nbconvert_exporter": "python",
   "pygments_lexer": "ipython3",
   "version": "3.7.1"
  }
 },
 "nbformat": 4,
 "nbformat_minor": 2
}
